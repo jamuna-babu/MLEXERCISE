{
  "nbformat": 4,
  "nbformat_minor": 0,
  "metadata": {
    "colab": {
      "name": "Linear_reg.ipynb",
      "provenance": [],
      "collapsed_sections": []
    },
    "kernelspec": {
      "name": "python3",
      "display_name": "Python 3"
    },
    "language_info": {
      "name": "python"
    }
  },
  "cells": [
    {
      "cell_type": "code",
      "execution_count": 40,
      "metadata": {
        "colab": {
          "base_uri": "https://localhost:8080/"
        },
        "id": "0-7W2ymbSBge",
        "outputId": "d4a92ac0-2ccb-416a-d91b-25c41661fd5d"
      },
      "outputs": [
        {
          "output_type": "stream",
          "name": "stdout",
          "text": [
            "     Unnamed: 0     TV  Radio  Newspaper  Sales\n",
            "0             1  230.1   37.8       69.2   22.1\n",
            "1             2   44.5   39.3       45.1   10.4\n",
            "2             3   17.2   45.9       69.3    9.3\n",
            "3             4  151.5   41.3       58.5   18.5\n",
            "4             5  180.8   10.8       58.4   12.9\n",
            "..          ...    ...    ...        ...    ...\n",
            "195         196   38.2    3.7       13.8    7.6\n",
            "196         197   94.2    4.9        8.1    9.7\n",
            "197         198  177.0    9.3        6.4   12.8\n",
            "198         199  283.6   42.0       66.2   25.5\n",
            "199         200  232.1    8.6        8.7   13.4\n",
            "\n",
            "[200 rows x 5 columns]\n"
          ]
        }
      ],
      "source": [
        "import numpy as np\n",
        "import pandas as pd\n",
        "import matplotlib.pyplot as plt\n",
        "\n",
        "path=\"/content/sample_data/Advertising.csv\"\n",
        " \n",
        "df_Adv = pd.read_csv(path)\n",
        "print(df_Adv)\n",
        "\n",
        "X = df_Adv[['TV', 'Radio', 'Newspaper']]\n",
        "y = df_Adv['Sales']\n",
        "\n",
        "from sklearn.model_selection import train_test_split\n",
        "X_train, X_test, y_train, y_test = train_test_split(X, y,\n",
        " test_size=0.2,\n",
        "random_state=42)\n",
        "\n"
      ]
    },
    {
      "cell_type": "code",
      "source": [
        "\n",
        "\n",
        "from sklearn.linear_model import LinearRegression\n",
        "linearRegression = LinearRegression()\n",
        "linearRegression.fit(X_train, y_train)\n",
        "m = linearRegression.predict(X_test[:10])\n",
        "n = y_test[:10].values\n",
        "print('Prediction\\tActual Value')\n",
        "for i in range(10):\n",
        " print(\"%.2f\\t\\t\\t%f\"%(m[i], n[i]))\n",
        "r2_Score = linearRegression.score(X_test, y_test)\n",
        "print(r2_Score)\n",
        "\n",
        "\n",
        "plt.scatter(X_test.iloc[:10,0],m)\n",
        "plt.scatter(X_test.iloc[:10,0],n)\n",
        "plt.show()\n",
        "\n"
      ],
      "metadata": {
        "colab": {
          "base_uri": "https://localhost:8080/",
          "height": 473
        },
        "id": "07DRyLZDUUYy",
        "outputId": "55b53495-85f0-4674-92ae-f01f3349d76e"
      },
      "execution_count": 46,
      "outputs": [
        {
          "output_type": "stream",
          "name": "stdout",
          "text": [
            "Prediction\tActual Value\n",
            "16.41\t\t\t16.900000\n",
            "20.89\t\t\t22.400000\n",
            "21.55\t\t\t21.400000\n",
            "10.61\t\t\t7.300000\n",
            "22.11\t\t\t24.700000\n",
            "13.11\t\t\t12.600000\n",
            "21.06\t\t\t22.300000\n",
            "7.46\t\t\t8.400000\n",
            "13.61\t\t\t11.500000\n",
            "15.16\t\t\t14.900000\n",
            "0.899438024100912\n"
          ]
        },
        {
          "output_type": "display_data",
          "data": {
            "text/plain": [
              "<Figure size 432x288 with 1 Axes>"
            ],
            "image/png": "[encoded data removed]"
          },
          "metadata": {}
        }
      ]
    },
    {
      "cell_type": "code",
      "source": [
        "import statsmodels.api as sm      \n",
        "x_train = sm.add_constant(X_train)\n",
        "lm_1 = sm.OLS(y_train, X_train).fit()\n",
        "lm_1.summary()"
      ],
      "metadata": {
        "colab": {
          "base_uri": "https://localhost:8080/",
          "height": 554
        },
        "id": "xyaf10B9wRdF",
        "outputId": "7726202f-400f-4863-f86c-7df5b6790449"
      },
      "execution_count": 61,
      "outputs": [
        {
          "output_type": "stream",
          "name": "stderr",
          "text": [
            "/usr/local/lib/python3.7/dist-packages/statsmodels/tools/_testing.py:19: FutureWarning: pandas.util.testing is deprecated. Use the functions in the public API at pandas.testing instead.\n",
            "  import pandas.util.testing as tm\n",
            "/usr/local/lib/python3.7/dist-packages/statsmodels/tsa/tsatools.py:117: FutureWarning: In a future version of pandas all arguments of concat except for the argument 'objs' will be keyword-only\n",
            "  x = pd.concat(x[::order], 1)\n"
          ]
        },
        {
          "output_type": "execute_result",
          "data": {
            "text/plain": [
              "<class 'statsmodels.iolib.summary.Summary'>\n",
              "\"\"\"\n",
              "                                 OLS Regression Results                                \n",
              "=======================================================================================\n",
              "Dep. Variable:                  Sales   R-squared (uncentered):                   0.982\n",
              "Model:                            OLS   Adj. R-squared (uncentered):              0.982\n",
              "Method:                 Least Squares   F-statistic:                              2935.\n",
              "Date:                Thu, 09 Jun 2022   Prob (F-statistic):                   1.28e-137\n",
              "Time:                        09:17:33   Log-Likelihood:                         -336.65\n",
              "No. Observations:                 160   AIC:                                      679.3\n",
              "Df Residuals:                     157   BIC:                                      688.5\n",
              "Df Model:                           3                                                  \n",
              "Covariance Type:            nonrobust                                                  \n",
              "==============================================================================\n",
              "                 coef    std err          t      P>|t|      [0.025      0.975]\n",
              "------------------------------------------------------------------------------\n",
              "TV             0.0531      0.001     36.467      0.000       0.050       0.056\n",
              "Radio          0.2188      0.011     20.138      0.000       0.197       0.240\n",
              "Newspaper      0.0239      0.008      3.011      0.003       0.008       0.040\n",
              "==============================================================================\n",
              "Omnibus:                       11.405   Durbin-Watson:                   1.895\n",
              "Prob(Omnibus):                  0.003   Jarque-Bera (JB):               15.574\n",
              "Skew:                          -0.432   Prob(JB):                     0.000415\n",
              "Kurtosis:                       4.261   Cond. No.                         13.5\n",
              "==============================================================================\n",
              "\n",
              "Warnings:\n",
              "[1] Standard Errors assume that the covariance matrix of the errors is correctly specified.\n",
              "\"\"\""
            ],
            "text/html": [
              "<table class=\"simpletable\">\n",
              "<caption>OLS Regression Results</caption>\n",
              "<tr>\n",
              "  <th>Dep. Variable:</th>          <td>Sales</td>      <th>  R-squared (uncentered):</th>      <td>   0.982</td> \n",
              "</tr>\n",
              "<tr>\n",
              "  <th>Model:</th>                   <td>OLS</td>       <th>  Adj. R-squared (uncentered):</th> <td>   0.982</td> \n",
              "</tr>\n",
              "<tr>\n",
              "  <th>Method:</th>             <td>Least Squares</td>  <th>  F-statistic:       </th>          <td>   2935.</td> \n",
              "</tr>\n",
              "<tr>\n",
              "  <th>Date:</th>             <td>Thu, 09 Jun 2022</td> <th>  Prob (F-statistic):</th>          <td>1.28e-137</td>\n",
              "</tr>\n",
              "<tr>\n",
              "  <th>Time:</th>                 <td>09:17:33</td>     <th>  Log-Likelihood:    </th>          <td> -336.65</td> \n",
              "</tr>\n",
              "<tr>\n",
              "  <th>No. Observations:</th>      <td>   160</td>      <th>  AIC:               </th>          <td>   679.3</td> \n",
              "</tr>\n",
              "<tr>\n",
              "  <th>Df Residuals:</th>          <td>   157</td>      <th>  BIC:               </th>          <td>   688.5</td> \n",
              "</tr>\n",
              "<tr>\n",
              "  <th>Df Model:</th>              <td>     3</td>      <th>                     </th>              <td> </td>    \n",
              "</tr>\n",
              "<tr>\n",
              "  <th>Covariance Type:</th>      <td>nonrobust</td>    <th>                     </th>              <td> </td>    \n",
              "</tr>\n",
              "</table>\n",
              "<table class=\"simpletable\">\n",
              "<tr>\n",
              "      <td></td>         <th>coef</th>     <th>std err</th>      <th>t</th>      <th>P>|t|</th>  <th>[0.025</th>    <th>0.975]</th>  \n",
              "</tr>\n",
              "<tr>\n",
              "  <th>TV</th>        <td>    0.0531</td> <td>    0.001</td> <td>   36.467</td> <td> 0.000</td> <td>    0.050</td> <td>    0.056</td>\n",
              "</tr>\n",
              "<tr>\n",
              "  <th>Radio</th>     <td>    0.2188</td> <td>    0.011</td> <td>   20.138</td> <td> 0.000</td> <td>    0.197</td> <td>    0.240</td>\n",
              "</tr>\n",
              "<tr>\n",
              "  <th>Newspaper</th> <td>    0.0239</td> <td>    0.008</td> <td>    3.011</td> <td> 0.003</td> <td>    0.008</td> <td>    0.040</td>\n",
              "</tr>\n",
              "</table>\n",
              "<table class=\"simpletable\">\n",
              "<tr>\n",
              "  <th>Omnibus:</th>       <td>11.405</td> <th>  Durbin-Watson:     </th> <td>   1.895</td>\n",
              "</tr>\n",
              "<tr>\n",
              "  <th>Prob(Omnibus):</th> <td> 0.003</td> <th>  Jarque-Bera (JB):  </th> <td>  15.574</td>\n",
              "</tr>\n",
              "<tr>\n",
              "  <th>Skew:</th>          <td>-0.432</td> <th>  Prob(JB):          </th> <td>0.000415</td>\n",
              "</tr>\n",
              "<tr>\n",
              "  <th>Kurtosis:</th>      <td> 4.261</td> <th>  Cond. No.          </th> <td>    13.5</td>\n",
              "</tr>\n",
              "</table><br/><br/>Warnings:<br/>[1] Standard Errors assume that the covariance matrix of the errors is correctly specified."
            ]
          },
          "metadata": {},
          "execution_count": 61
        }
      ]
    }
  ]
}