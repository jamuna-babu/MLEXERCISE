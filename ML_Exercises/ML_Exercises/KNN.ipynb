{
  "nbformat": 4,
  "nbformat_minor": 0,
  "metadata": {
    "colab": {
      "name": "KNN.ipynb",
      "provenance": [],
      "collapsed_sections": []
    },
    "kernelspec": {
      "name": "python3",
      "display_name": "Python 3"
    },
    "language_info": {
      "name": "python"
    }
  },
  "cells": [
    {
      "cell_type": "code",
      "execution_count": 40,
      "metadata": {
        "id": "3u-bWNsVn2gU"
      },
      "outputs": [],
      "source": [
        "import numpy as nm  \n",
        "import matplotlib.pyplot as mtp  \n",
        "import pandas as pd  \n",
        "  \n",
        "path=\"/content/sample_data/diabetes.csv\"\n",
        "#importing datasets  \n",
        "data_set= pd.read_csv(path)  \n",
        "  \n",
        "#Extracting Independent and dependent Variable  \n",
        "x= data_set.iloc[:,:8].values  \n",
        "y= data_set.iloc[:, 8].values  \n",
        "\n",
        "from sklearn.model_selection import train_test_split  \n",
        "x_train, x_test, y_train, y_test= train_test_split(x, y, test_size= 0.25, random_state=0)  \n",
        "  \n",
        "\n"
      ]
    },
    {
      "cell_type": "code",
      "source": [
        "from sklearn.neighbors import KNeighborsClassifier\n",
        "knn_clf = KNeighborsClassifier()\n",
        "knn_clf.fit(x_train, y_train)\n",
        "y_pred = knn_clf.predict(x_test)\n",
        "print('Predicted class using KNN :', predicted[:10])\n",
        "print('Actual class subset :',y_test[:10])\n",
        "score = knn_clf.score(x_test, y_test)\n",
        "print('Accuracy :',score)"
      ],
      "metadata": {
        "colab": {
          "base_uri": "https://localhost:8080/"
        },
        "id": "fiO1XqsBprGO",
        "outputId": "edea87b9-a595-400b-cbec-ad2d065b2fb4"
      },
      "execution_count": 51,
      "outputs": [
        {
          "output_type": "stream",
          "name": "stdout",
          "text": [
            "Predicted class using KNN : [1 0 0 1 0 0 1 1 1 0]\n",
            "Actual class subset : [1 0 0 1 0 0 1 1 0 0]\n",
            "Accuracy : 0.7552083333333334\n"
          ]
        }
      ]
    },
    {
      "cell_type": "code",
      "source": [
        "import matplotlib.pyplot as plt\n",
        "\n",
        "\n",
        "plt.scatter(x_test[y_pred == 0,1],x_test[y_pred == 0,0],s=100,c='red')\n",
        "plt.scatter(x_test[y_pred == 1,1],x_test[y_pred == 1,0],s=100,c='blue')\n",
        "\n",
        "\n",
        "plt.show()"
      ],
      "metadata": {
        "colab": {
          "base_uri": "https://localhost:8080/",
          "height": 265
        },
        "id": "kSWZtWID3Wqf",
        "outputId": "5eefd5c1-7514-42a6-f9f3-695656c7f4f0"
      },
      "execution_count": 52,
      "outputs": [
        {
          "output_type": "display_data",
          "data": {
            "text/plain": [
              "<Figure size 432x288 with 1 Axes>"
            ],
            "image/png": "[encoded data removed]"
          },
          "metadata": {
            "needs_background": "light"
          }
        }
      ]
    },
    {
      "cell_type": "code",
      "source": [
        "from sklearn.metrics import confusion_matrix  \n",
        "cm= confusion_matrix(y_test, predicted)  \n",
        "cm"
      ],
      "metadata": {
        "colab": {
          "base_uri": "https://localhost:8080/"
        },
        "id": "bIsZs5zLqAIV",
        "outputId": "d6e0e03b-1903-42cd-a069-8abd711312a5"
      },
      "execution_count": 42,
      "outputs": [
        {
          "output_type": "execute_result",
          "data": {
            "text/plain": [
              "array([[109,  21],\n",
              "       [ 26,  36]])"
            ]
          },
          "metadata": {},
          "execution_count": 42
        }
      ]
    }
  ]
}