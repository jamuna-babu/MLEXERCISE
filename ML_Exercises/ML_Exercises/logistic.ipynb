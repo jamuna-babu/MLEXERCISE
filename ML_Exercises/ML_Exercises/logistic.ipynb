{
  "nbformat": 4,
  "nbformat_minor": 0,
  "metadata": {
    "colab": {
      "name": "logistic.ipynb",
      "provenance": [],
      "collapsed_sections": []
    },
    "kernelspec": {
      "name": "python3",
      "display_name": "Python 3"
    },
    "language_info": {
      "name": "python"
    }
  },
  "cells": [
    {
      "cell_type": "code",
      "execution_count": 1,
      "metadata": {
        "id": "maSySlfYQc7-"
      },
      "outputs": [],
      "source": [
        "import numpy as nm  \n",
        "import matplotlib.pyplot as mtp  \n",
        "import pandas as pd  \n",
        "  \n",
        "path=\"/content/sample_data/diabetes.csv\"\n",
        "#importing datasets  \n",
        "data_set= pd.read_csv(path)  \n",
        "  \n",
        "#Extracting Independent and dependent Variable  \n",
        "x= data_set.iloc[:,:8].values  \n",
        "y= data_set.iloc[:, 8].values  \n",
        "\n",
        "from sklearn.model_selection import train_test_split  \n",
        "x_train, x_test, y_train, y_test= train_test_split(x, y, test_size= 0.25, random_state=0)  \n",
        "  \n",
        "\n"
      ]
    },
    {
      "cell_type": "code",
      "source": [
        "from sklearn.linear_model import LogisticRegression\n",
        "lr_clf = LogisticRegression(multi_class='multinomial')\n",
        "lr_clf.fit(x_train, y_train)\n",
        "y_pred = lr_clf.predict(x_test)\n",
        "print('Predicted class using Logistic regression :',y_pred[:10])\n",
        "print('Actual class subset :',y_test[:10])\n",
        "score_lr_clf = lr_clf.score(x_test, y_test)\n",
        "print('Accuracy :',score_lr_clf)\n"
      ],
      "metadata": {
        "colab": {
          "base_uri": "https://localhost:8080/"
        },
        "id": "27Q5h8x4QoY_",
        "outputId": "5e009cae-5031-490a-e819-78835ea04cc8"
      },
      "execution_count": 2,
      "outputs": [
        {
          "output_type": "stream",
          "name": "stdout",
          "text": [
            "Predicted class using Logistic regression : [1 0 0 1 0 0 1 1 1 0]\n",
            "Actual class subset : [1 0 0 1 0 0 1 1 0 0]\n",
            "Accuracy : 0.8072916666666666\n"
          ]
        },
        {
          "output_type": "stream",
          "name": "stderr",
          "text": [
            "/usr/local/lib/python3.7/dist-packages/sklearn/linear_model/_logistic.py:818: ConvergenceWarning: lbfgs failed to converge (status=1):\n",
            "STOP: TOTAL NO. of ITERATIONS REACHED LIMIT.\n",
            "\n",
            "Increase the number of iterations (max_iter) or scale the data as shown in:\n",
            "    https://scikit-learn.org/stable/modules/preprocessing.html\n",
            "Please also refer to the documentation for alternative solver options:\n",
            "    https://scikit-learn.org/stable/modules/linear_model.html#logistic-regression\n",
            "  extra_warning_msg=_LOGISTIC_SOLVER_CONVERGENCE_MSG,\n"
          ]
        }
      ]
    },
    {
      "cell_type": "code",
      "source": [
        "import matplotlib.pyplot as plt\n",
        "\n",
        "\n",
        "plt.scatter(x_test[y_pred == 0,1],x_test[y_pred == 0,0],s=100,c='red')\n",
        "plt.scatter(x_test[y_pred == 1,1],x_test[y_pred == 1,0],s=100,c='blue')\n",
        "\n",
        "\n",
        "plt.show()"
      ],
      "metadata": {
        "colab": {
          "base_uri": "https://localhost:8080/",
          "height": 265
        },
        "id": "imouey-2QrhF",
        "outputId": "2cbf69d0-ab55-43ed-d5a7-0857ada876c5"
      },
      "execution_count": 3,
      "outputs": [
        {
          "output_type": "display_data",
          "data": {
            "text/plain": [
              "<Figure size 432x288 with 1 Axes>"
            ],
            "image/png": "[encoded data removed]"
          },
          "metadata": {
            "needs_background": "light"
          }
        }
      ]
    }
  ]
}